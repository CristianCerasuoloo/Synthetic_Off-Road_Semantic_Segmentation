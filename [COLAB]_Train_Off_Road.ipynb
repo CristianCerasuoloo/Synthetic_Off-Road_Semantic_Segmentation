{
 "cells": [
  {
   "cell_type": "code",
   "execution_count": null,
   "metadata": {
    "colab": {
     "base_uri": "https://localhost:8080/"
    },
    "id": "GQ5iVLMgCdmj",
    "outputId": "5b67ada4-e7b9-49da-d62e-8c4208b8e8b8"
   },
   "outputs": [
    {
     "name": "stdout",
     "output_type": "stream",
     "text": [
      "/content\n"
     ]
    }
   ],
   "source": [
    "%cd /content/"
   ]
  },
  {
   "cell_type": "code",
   "execution_count": null,
   "metadata": {
    "colab": {
     "base_uri": "https://localhost:8080/"
    },
    "id": "K6yfy2M2BVhm",
    "outputId": "f3c26cda-0e67-4aab-f36d-ea123ff0a49d"
   },
   "outputs": [
    {
     "name": "stdout",
     "output_type": "stream",
     "text": [
      "rm: cannot remove '/content/Synthetic_Off-Road_Semantic_Segmentation': No such file or directory\n"
     ]
    }
   ],
   "source": [
    "!rm -r /content/Synthetic_Off-Road_Semantic_Segmentation"
   ]
  },
  {
   "cell_type": "code",
   "execution_count": null,
   "metadata": {
    "colab": {
     "base_uri": "https://localhost:8080/"
    },
    "id": "QD9mNx0Om0KP",
    "outputId": "a4db8ead-7c73-4eb7-8974-ad167c7f9338"
   },
   "outputs": [
    {
     "name": "stdout",
     "output_type": "stream",
     "text": [
      "Cloning into 'Synthetic_Off-Road_Semantic_Segmentation'...\n",
      "remote: Enumerating objects: 126, done.\u001b[K\n",
      "remote: Counting objects: 100% (126/126), done.\u001b[K\n",
      "remote: Compressing objects: 100% (92/92), done.\u001b[K\n",
      "remote: Total 126 (delta 42), reused 114 (delta 30), pack-reused 0 (from 0)\u001b[K\n",
      "Receiving objects: 100% (126/126), 20.61 MiB | 23.93 MiB/s, done.\n",
      "Resolving deltas: 100% (42/42), done.\n",
      "Downloading video_processed/inference_depth.mp4 (54 MB)\n",
      "Error downloading object: video_processed/inference_depth.mp4 (6d4f04c): Smudge error: Error downloading video_processed/inference_depth.mp4 (6d4f04cc2e3821a785cef38b2c9d0d88a0439eed3c08a38ddb2e0880e0d78f1d): batch response: Bad credentials\n",
      "\n",
      "Errors logged to /content/Synthetic_Off-Road_Semantic_Segmentation/.git/lfs/logs/20241114T204611.101060819.log\n",
      "Use `git lfs logs last` to view the log.\n",
      "error: external filter 'git-lfs filter-process' failed\n",
      "fatal: video_processed/inference_depth.mp4: smudge filter lfs failed\n",
      "warning: Clone succeeded, but checkout failed.\n",
      "You can inspect what was checked out with 'git status'\n",
      "and retry with 'git restore --source=HEAD :/'\n",
      "\n"
     ]
    }
   ],
   "source": [
    "!git clone "
   ]
  },
  {
   "cell_type": "code",
   "execution_count": null,
   "metadata": {
    "colab": {
     "base_uri": "https://localhost:8080/"
    },
    "id": "_ThonuqoncdV",
    "outputId": "5ab3b348-440c-4912-bb90-49352072221b"
   },
   "outputs": [
    {
     "name": "stdout",
     "output_type": "stream",
     "text": [
      "Downloading...\n",
      "From: https://drive.google.com/uc?id=1fiKy_SZn2T1laBZlpWqTbRdW2a-zdQNl\n",
      "To: /content/starting points.zip\n",
      "100% 4.58M/4.58M [00:00<00:00, 14.2MB/s]\n"
     ]
    }
   ],
   "source": [
    "starting_points_link = \"https://drive.google.com/file/d/1fiKy_SZn2T1laBZlpWqTbRdW2a-zdQNl/view?usp=share_link\"\n",
    "!gdown --fuzzy {starting_points_link}"
   ]
  },
  {
   "cell_type": "code",
   "execution_count": null,
   "metadata": {
    "colab": {
     "base_uri": "https://localhost:8080/"
    },
    "id": "BwkkfpZJBfKE",
    "outputId": "fad14b14-c6e4-4b36-8b19-203b4174f024"
   },
   "outputs": [
    {
     "name": "stdout",
     "output_type": "stream",
     "text": [
      "Archive:  starting points.zip\n",
      "   creating: /content/starting points/\n",
      "  inflating: /content/starting points/.DS_Store  \n",
      "  inflating: /content/__MACOSX/starting points/._.DS_Store  \n",
      "  inflating: /content/starting points/orfd_trained_model.pth  \n",
      "  inflating: /content/__MACOSX/starting points/._orfd_trained_model.pth  \n",
      "  inflating: /content/starting points/BDD100k_originalauthors.pth  \n",
      "  inflating: /content/__MACOSX/starting points/._BDD100k_originalauthors.pth  \n",
      "  inflating: /content/starting points/README.txt  \n",
      "  inflating: /content/__MACOSX/starting points/._README.txt  \n",
      "  inflating: /content/starting points/RoverDataset_Nocerino.pth  \n",
      "  inflating: /content/__MACOSX/starting points/._RoverDataset_Nocerino.pth  \n"
     ]
    }
   ],
   "source": [
    "!unzip starting\\ points.zip -d /content"
   ]
  },
  {
   "cell_type": "code",
   "execution_count": null,
   "metadata": {
    "colab": {
     "base_uri": "https://localhost:8080/"
    },
    "id": "x_X-PcftBtvg",
    "outputId": "e416bc07-401e-4caf-9acf-d9c2ab16e79b"
   },
   "outputs": [
    {
     "name": "stdout",
     "output_type": "stream",
     "text": [
      "/content/Synthetic_Off-Road_Semantic_Segmentation\n"
     ]
    }
   ],
   "source": [
    "%cd Synthetic_Off-Road_Semantic_Segmentation/"
   ]
  },
  {
   "cell_type": "code",
   "execution_count": null,
   "metadata": {
    "colab": {
     "base_uri": "https://localhost:8080/"
    },
    "id": "s_0DtSZUicEf",
    "outputId": "18b25b61-d041-427b-cade-154d1b2c58d2"
   },
   "outputs": [
    {
     "name": "stdout",
     "output_type": "stream",
     "text": [
      "^C\n"
     ]
    }
   ],
   "source": [
    "!cp -r /content/drive/MyDrive/Magistrale/Tesi/SynthOffRoad /content"
   ]
  },
  {
   "cell_type": "code",
   "execution_count": null,
   "metadata": {
    "id": "KuKr_p8XQ_Lz"
   },
   "outputs": [],
   "source": [
    "# prompt: free coda memory\n",
    "\n",
    "import gc\n",
    "\n",
    "# Force garbage collection\n",
    "gc.collect()\n",
    "\n",
    "# Optionally, you can also try to clear the CUDA cache (if using GPU)\n",
    "import torch\n",
    "if torch.cuda.is_available():\n",
    "  torch.cuda.empty_cache()"
   ]
  },
  {
   "cell_type": "code",
   "execution_count": null,
   "metadata": {
    "colab": {
     "base_uri": "https://localhost:8080/"
    },
    "id": "N9ZTBIZ1B8_n",
    "outputId": "c4dd680e-b1a5-4090-a7c8-f2b68eed902f"
   },
   "outputs": [
    {
     "name": "stdout",
     "output_type": "stream",
     "text": [
      "Using only RGB \n",
      "Training from scratch.\n",
      "Traceback (most recent call last):\n",
      "  File \"/content/Synthetic_Off-Road_Semantic_Segmentation/train.py\", line 261, in <module>\n",
      "    train_net(parser.parse_args())\n",
      "  File \"/content/Synthetic_Off-Road_Semantic_Segmentation/train.py\", line 97, in train_net\n",
      "    myDataLoader.SynthOffRoadDataset(train_path = args.train_path, valid=False,\n",
      "  File \"/content/Synthetic_Off-Road_Semantic_Segmentation/DataSet.py\", line 416, in __init__\n",
      "    for folder in os.listdir(self.root):\n",
      "FileNotFoundError: [Errno 2] No such file or directory: '/content/drive/MyDrive/Magistrale/Tesi/SynthOffRoadReducted/Images/Sunny/Train'\n"
     ]
    }
   ],
   "source": [
    "!python train.py \\\n",
    "    --num_workers 2 \\\n",
    "    --batch_size 32 \\\n",
    "    --savedir ./BDD100k_NoAugEncoder_1 \\\n",
    "    --resume /content/starting\\ points/BDD100k_originalauthors.pth \\\n",
    "    --train_path /content/drive/MyDrive/Magistrale/Tesi/SynthOffRoadReducted/Images/Train \\\n",
    "    --valid_path /content/drive/MyDrive/Magistrale/Tesi/SynthOffRoadReducted/Images/Val \\\n",
    "    --label SynthOffRoad \\\n",
    "    --rgb_folder_name \"Images\" \\\n",
    "    --label_folder_name \"GT\" \\\n",
    "    --width 640 \\\n",
    "    --height 360 \\\n",
    "    --patience 10 \\\n",
    "    --freeze_encoder \\\n",
    "    --device cuda"
   ]
  },
  {
   "cell_type": "code",
   "execution_count": null,
   "metadata": {
    "colab": {
     "base_uri": "https://localhost:8080/"
    },
    "id": "PqluFdoWFggH",
    "outputId": "c74a8551-b495-4ea6-955b-c0d6cb3ac372"
   },
   "outputs": [
    {
     "name": "stdout",
     "output_type": "stream",
     "text": [
      "Using only RGB \n",
      "DEBUG:  lunghezza frames  15598\n",
      "Total network parameters: 436931\n",
      "/content/Synthetic_Off-Road_Semantic_Segmentation/val.py:54: FutureWarning: You are using `torch.load` with `weights_only=False` (the current default value), which uses the default pickle module implicitly. It is possible to construct malicious pickle data which will execute arbitrary code during unpickling (See https://github.com/pytorch/pytorch/blob/main/SECURITY.md#untrusted-models for more details). In a future release, the default value for `weights_only` will be flipped to `True`. This limits the functions that could be executed during unpickling. Arbitrary objects will no longer be allowed to be loaded via this mode unless they are explicitly allowlisted by the user via `torch.serialization.add_safe_globals`. We recommend you start setting `weights_only=True` for any use case where you don't have full control of the loaded file. Please open an issue on GitHub for any issues related to this experimental feature.\n",
      "  checkpoint = torch.load( args.weight, map_location= args.device) # change the model\n",
      "  0% 0/122 [00:00<?, ?it/s][ WARN:0@5.348] global loadsave.cpp:241 findDecoder imread_('GT/GTcGToGTnGTtGTeGTnGTtGT/GTdGTrGTiGTvGTeGT/GTMGTyGTDGTrGTiGTvGTeGT/GTMGTaGTgGTiGTsGTtGTrGTaGTlGTeGT/GTTGTeGTsGTiGT/GTSGTyGTnGTtGThGTOGTfGTfGTRGToGTaGTdGT/GTGGTTGT/GTSGTuGTnGTnGTyGT/GTTGTeGTsGTtGT/GTFGTLGT0GT/GT0GT0GT3GT6GT8GT7GT.GTpGTnGTgGT'): can't open/read file: check file path/integrity\n",
      "  0% 0/122 [00:00<?, ?it/s]\n",
      "Traceback (most recent call last):\n",
      "  File \"/content/Synthetic_Off-Road_Semantic_Segmentation/val.py\", line 107, in <module>\n",
      "    validation(parser.parse_args())\n",
      "  File \"/content/Synthetic_Off-Road_Semantic_Segmentation/val.py\", line 75, in validation\n",
      "    da_segment_results, da_segment_result_OFFNET, val_loss = val(valLoader, model, criteria, args.device)\n",
      "  File \"/usr/local/lib/python3.10/dist-packages/torch/utils/_contextlib.py\", line 116, in decorate_context\n",
      "    return func(*args, **kwargs)\n",
      "  File \"/content/Synthetic_Off-Road_Semantic_Segmentation/utils.py\", line 292, in val\n",
      "    for i, (_, input, target) in pbar:\n",
      "  File \"/usr/local/lib/python3.10/dist-packages/tqdm/std.py\", line 1181, in __iter__\n",
      "    for obj in iterable:\n",
      "  File \"/usr/local/lib/python3.10/dist-packages/torch/utils/data/dataloader.py\", line 701, in __next__\n",
      "    data = self._next_data()\n",
      "  File \"/usr/local/lib/python3.10/dist-packages/torch/utils/data/dataloader.py\", line 1465, in _next_data\n",
      "    return self._process_data(data)\n",
      "  File \"/usr/local/lib/python3.10/dist-packages/torch/utils/data/dataloader.py\", line 1491, in _process_data\n",
      "    data.reraise()\n",
      "  File \"/usr/local/lib/python3.10/dist-packages/torch/_utils.py\", line 715, in reraise\n",
      "    raise exception\n",
      "cv2.error: Caught error in DataLoader worker process 0.\n",
      "Original Traceback (most recent call last):\n",
      "  File \"/usr/local/lib/python3.10/dist-packages/torch/utils/data/_utils/worker.py\", line 351, in _worker_loop\n",
      "    data = fetcher.fetch(index)  # type: ignore[possibly-undefined]\n",
      "  File \"/usr/local/lib/python3.10/dist-packages/torch/utils/data/_utils/fetch.py\", line 52, in fetch\n",
      "    data = [self.dataset[idx] for idx in possibly_batched_index]\n",
      "  File \"/usr/local/lib/python3.10/dist-packages/torch/utils/data/_utils/fetch.py\", line 52, in <listcomp>\n",
      "    data = [self.dataset[idx] for idx in possibly_batched_index]\n",
      "  File \"/content/Synthetic_Off-Road_Semantic_Segmentation/DataSet.py\", line 463, in __getitem__\n",
      "    label1 = cv2.resize(label1, (self.width, self.height))\n",
      "cv2.error: OpenCV(4.10.0) /io/opencv/modules/imgproc/src/resize.cpp:4152: error: (-215:Assertion failed) !ssize.empty() in function 'resize'\n",
      "\n",
      "\n"
     ]
    }
   ],
   "source": [
    "!python val.py \\\n",
    "  --weight /content/starting\\ points/BDD100k_originalauthors.pth \\\n",
    "  --num_workers 1 \\\n",
    "  --batch_size 128 \\\n",
    "  --test_path /content/drive/MyDrive/Magistrale/Tesi/SynthOffRoad/GT/Sunny/Test \\\n",
    "  --label SynthOffRoad \\\n",
    "  --rgb_folder_name \"\" \\\n",
    "  --label_folder_name \"GT\" \\\n",
    "  --width 640 \\\n",
    "  --height 360 \\\n",
    "  --deepscene \\\n",
    "  --device cuda\n"
   ]
  }
 ],
 "metadata": {
  "accelerator": "GPU",
  "colab": {
   "gpuType": "T4",
   "provenance": []
  },
  "kernelspec": {
   "display_name": "Python 3",
   "name": "python3"
  },
  "language_info": {
   "name": "python"
  }
 },
 "nbformat": 4,
 "nbformat_minor": 0
}
