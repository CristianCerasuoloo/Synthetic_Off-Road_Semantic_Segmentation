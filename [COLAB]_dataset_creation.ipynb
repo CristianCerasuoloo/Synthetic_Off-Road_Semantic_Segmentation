{
 "cells": [
  {
   "cell_type": "code",
   "execution_count": 47,
   "metadata": {
    "colab": {
     "base_uri": "https://localhost:8080/"
    },
    "id": "GEyyQGQMpFpp",
    "outputId": "141207d1-c1bc-4e8d-8788-c2ca269e1577"
   },
   "outputs": [
    {
     "name": "stdout",
     "output_type": "stream",
     "text": [
      "Mounted at /content/drive\n"
     ]
    }
   ],
   "source": [
    "from google.colab import drive\n",
    "drive.mount('/content/drive', force_remount=True)"
   ]
  },
  {
   "cell_type": "markdown",
   "metadata": {
    "id": "b88-IWq8oqx-"
   },
   "source": [
    "Creazione del dataset partendo dalla cartella video\n",
    "\n",
    "Root\n",
    "- GT (video segmentati)\n",
    "-- Sunny\n",
    "--- FL0\n",
    "--- FL1_2\n",
    "--- ...\n",
    "\n",
    "- Color (video a colori)\n",
    "-- Sunny\n",
    "--- FL0\n",
    "--- FL1_2\n",
    "--- ...\n",
    "\n",
    "Vogliamo ottenere\n",
    "\n",
    "SynthOffRoad\n",
    "- train\n",
    "-- GT\n",
    "--- Sunny\n",
    "---- FL0\n",
    "----- 00334.png\n",
    "----- 04422.png\n",
    "---- ...\n",
    "\n",
    "-- Color\n",
    "--- Sunny\n",
    "---- FL0\n",
    "----- 00334.png\n",
    "----- 04422.png\n",
    "---- ...\n"
   ]
  },
  {
   "cell_type": "markdown",
   "metadata": {
    "id": "VTZCFfqZoqx_"
   },
   "source": [
    "## Step 1: Estrazione Frame"
   ]
  },
  {
   "cell_type": "code",
   "execution_count": 39,
   "metadata": {
    "id": "dhX-LRQfoqyA"
   },
   "outputs": [],
   "source": [
    "video_folder = \"/content/drive/MyDrive/Magistrale/Tesi/Video Scenari/Bozza5\"\n",
    "video_sunny_folder = video_folder + \"/Sunny\"\n",
    "video_gt_folder = video_folder + \"/GT\"\n",
    "\n",
    "frame_folder = \"/content/drive/MyDrive/Magistrale/Tesi/Video Scenari/SynthOffRoad\"\n",
    "frame_sunny_folder = frame_folder + \"/Sunny\"\n",
    "frame_gt_folder = frame_folder + \"/GT\""
   ]
  },
  {
   "cell_type": "code",
   "execution_count": 39,
   "metadata": {
    "id": "_LLqjJrLoqyA"
   },
   "outputs": [],
   "source": []
  },
  {
   "cell_type": "markdown",
   "metadata": {
    "id": "TaWFYCHvoqyA"
   },
   "source": [
    "Per primo step creiamo una grande unica cartella in cui mettere tutti i frame e poi dividiamo in train valid e test"
   ]
  },
  {
   "cell_type": "code",
   "execution_count": 40,
   "metadata": {
    "id": "6D1Re9ifoqyB"
   },
   "outputs": [],
   "source": [
    "import cv2\n",
    "import os\n",
    "\n",
    "def unpack_video(video_path, output_dir):\n",
    "    # Open the video file\n",
    "    cap = cv2.VideoCapture(video_path)\n",
    "    if not cap.isOpened():\n",
    "        print(\"Error: Could not open video file\")\n",
    "        return\n",
    "\n",
    "    # Create the output directory if it doesn't exist\n",
    "    if not os.path.exists(output_dir):\n",
    "        os.makedirs(output_dir)\n",
    "\n",
    "    # Read the video frame by frame\n",
    "    frame_num = 0\n",
    "    while True:\n",
    "        ret, frame = cap.read()\n",
    "        if not ret:\n",
    "            break\n",
    "\n",
    "        # Save the frame as an image\n",
    "        image_path = os.path.join(output_dir, f\"{frame_num:06d}.png\")\n",
    "        cv2.imwrite(image_path, frame)\n",
    "\n",
    "        frame_num += 1\n",
    "\n",
    "    cap.release()\n",
    "\n",
    "def invert_grayscale_video(input_path, output_path):\n",
    "    # Check if the input path exists\n",
    "    if not os.path.exists(input_path):\n",
    "        print(f\"Error: The input file '{input_path}' does not exist.\")\n",
    "        return\n",
    "\n",
    "    # Open the video file\n",
    "    cap = cv2.VideoCapture(input_path)\n",
    "    if not cap.isOpened():\n",
    "        print(f\"Error: Could not open video file '{input_path}'\")\n",
    "        return\n",
    "\n",
    "    # Get video properties\n",
    "    width = int(cap.get(cv2.CAP_PROP_FRAME_WIDTH))\n",
    "    height = int(cap.get(cv2.CAP_PROP_FRAME_HEIGHT))\n",
    "    fps = cap.get(cv2.CAP_PROP_FPS)\n",
    "    codec = cv2.VideoWriter_fourcc(*'mp4v')  # Codec for mp4 format\n",
    "\n",
    "    # Create a VideoWriter object to save the output video\n",
    "    out = cv2.VideoWriter(output_path, codec, fps, (width, height), isColor=False)\n",
    "\n",
    "    while True:\n",
    "        # Read each frame\n",
    "        ret, frame = cap.read()\n",
    "        if not ret:\n",
    "            break\n",
    "\n",
    "        # Convert to grayscale\n",
    "        gray_frame = cv2.cvtColor(frame, cv2.COLOR_BGR2GRAY)\n",
    "\n",
    "        # Perform gray-level inversion\n",
    "        inverted_frame = 255 - gray_frame\n",
    "\n",
    "        # Write the inverted frame to the output video\n",
    "        out.write(inverted_frame)\n",
    "\n",
    "    # Release resources\n",
    "    cap.release()\n",
    "    out.release()\n",
    "    print(f\"Inverted video saved as '{output_path}'\")"
   ]
  },
  {
   "cell_type": "code",
   "execution_count": 46,
   "metadata": {
    "colab": {
     "base_uri": "https://localhost:8080/"
    },
    "id": "36kJceP3MDCz",
    "outputId": "025496dc-b361-4e9f-aaae-401a9d96387e"
   },
   "outputs": [
    {
     "data": {
      "text/plain": [
       "['/content/drive/MyDrive/Magistrale/Tesi/Video Scenari/Bozza5/Sunny/WL4.avi',\n",
       " '/content/drive/MyDrive/Magistrale/Tesi/Video Scenari/Bozza5/Sunny/WL1.avi',\n",
       " '/content/drive/MyDrive/Magistrale/Tesi/Video Scenari/Bozza5/Sunny/WL0.avi',\n",
       " '/content/drive/MyDrive/Magistrale/Tesi/Video Scenari/Bozza5/Sunny/WL2.avi',\n",
       " '/content/drive/MyDrive/Magistrale/Tesi/Video Scenari/Bozza5/Sunny/FL3.avi',\n",
       " '/content/drive/MyDrive/Magistrale/Tesi/Video Scenari/Bozza5/Sunny/FL4.avi',\n",
       " '/content/drive/MyDrive/Magistrale/Tesi/Video Scenari/Bozza5/Sunny/WL3.avi',\n",
       " '/content/drive/MyDrive/Magistrale/Tesi/Video Scenari/Bozza5/Sunny/FL0.avi',\n",
       " '/content/drive/MyDrive/Magistrale/Tesi/Video Scenari/Bozza5/Sunny/FL1_2.avi',\n",
       " '/content/drive/MyDrive/Magistrale/Tesi/Video Scenari/Bozza5/GT/FL0.avi',\n",
       " '/content/drive/MyDrive/Magistrale/Tesi/Video Scenari/Bozza5/GT/FL1_2.avi',\n",
       " '/content/drive/MyDrive/Magistrale/Tesi/Video Scenari/Bozza5/GT/FL3.avi',\n",
       " '/content/drive/MyDrive/Magistrale/Tesi/Video Scenari/Bozza5/GT/FL4.avi',\n",
       " '/content/drive/MyDrive/Magistrale/Tesi/Video Scenari/Bozza5/GT/WL0.avi',\n",
       " '/content/drive/MyDrive/Magistrale/Tesi/Video Scenari/Bozza5/GT/WL1.avi',\n",
       " '/content/drive/MyDrive/Magistrale/Tesi/Video Scenari/Bozza5/GT/WL2.avi',\n",
       " '/content/drive/MyDrive/Magistrale/Tesi/Video Scenari/Bozza5/GT/WL3.avi',\n",
       " '/content/drive/MyDrive/Magistrale/Tesi/Video Scenari/Bozza5/GT/WL4.avi',\n",
       " '/content/drive/MyDrive/Magistrale/Tesi/Video Scenari/Bozza5/GT/WL_inv4.avi',\n",
       " '/content/drive/MyDrive/Magistrale/Tesi/Video Scenari/Bozza5/GT/WL_inv1.avi',\n",
       " '/content/drive/MyDrive/Magistrale/Tesi/Video Scenari/Bozza5/GT/WL_inv0.avi',\n",
       " '/content/drive/MyDrive/Magistrale/Tesi/Video Scenari/Bozza5/GT/WL_inv2.avi',\n",
       " '/content/drive/MyDrive/Magistrale/Tesi/Video Scenari/Bozza5/GT/WL_inv3.avi',\n",
       " '/content/drive/MyDrive/Magistrale/Tesi/Video Scenari/Bozza5/Rainy_GT/WL4.avi']"
      ]
     },
     "execution_count": 46,
     "metadata": {},
     "output_type": "execute_result"
    }
   ],
   "source": [
    "# Take all the *.avi files in the video folder (there are more levels of folder) with glob\n",
    "\n",
    "import glob\n",
    "\n",
    "video_files = glob.glob(video_folder + \"/**/*.avi\", recursive=True)\n",
    "video_files"
   ]
  },
  {
   "cell_type": "code",
   "execution_count": 42,
   "metadata": {
    "colab": {
     "base_uri": "https://localhost:8080/",
     "height": 352
    },
    "id": "Xr1o-6sgoqyB",
    "outputId": "9834df6e-f431-48b7-e591-7385de6b6689"
   },
   "outputs": [
    {
     "name": "stdout",
     "output_type": "stream",
     "text": [
      "/content/drive/MyDrive/Magistrale/Tesi/Video Scenari/Bozza5/Sunny/WL4.avi -> /content/drive/MyDrive/Magistrale/Tesi/Video Scenari/SynthOffRoad/Sunny/WL4\n"
     ]
    },
    {
     "ename": "KeyboardInterrupt",
     "evalue": "",
     "output_type": "error",
     "traceback": [
      "\u001b[0;31m---------------------------------------------------------------------------\u001b[0m",
      "\u001b[0;31mKeyboardInterrupt\u001b[0m                         Traceback (most recent call last)",
      "\u001b[0;32m<ipython-input-42-e52ec5a6224c>\u001b[0m in \u001b[0;36m<cell line: 1>\u001b[0;34m()\u001b[0m\n\u001b[1;32m     15\u001b[0m             \u001b[0munpack_video\u001b[0m\u001b[0;34m(\u001b[0m\u001b[0mvideo_path_2\u001b[0m\u001b[0;34m,\u001b[0m \u001b[0mframe_path\u001b[0m\u001b[0;34m)\u001b[0m\u001b[0;34m\u001b[0m\u001b[0;34m\u001b[0m\u001b[0m\n\u001b[1;32m     16\u001b[0m         \u001b[0;32melse\u001b[0m\u001b[0;34m:\u001b[0m\u001b[0;34m\u001b[0m\u001b[0;34m\u001b[0m\u001b[0m\n\u001b[0;32m---> 17\u001b[0;31m             \u001b[0munpack_video\u001b[0m\u001b[0;34m(\u001b[0m\u001b[0mvideo_path\u001b[0m\u001b[0;34m,\u001b[0m \u001b[0mframe_path\u001b[0m\u001b[0;34m)\u001b[0m\u001b[0;34m\u001b[0m\u001b[0;34m\u001b[0m\u001b[0m\n\u001b[0m\u001b[1;32m     18\u001b[0m     \u001b[0;32melse\u001b[0m\u001b[0;34m:\u001b[0m\u001b[0;34m\u001b[0m\u001b[0;34m\u001b[0m\u001b[0m\n\u001b[1;32m     19\u001b[0m         \u001b[0mprint\u001b[0m\u001b[0;34m(\u001b[0m\u001b[0;34m\"Skipping \"\u001b[0m \u001b[0;34m+\u001b[0m \u001b[0mvideo_path\u001b[0m \u001b[0;34m+\u001b[0m \u001b[0;34m\". Folder already exists\"\u001b[0m\u001b[0;34m)\u001b[0m\u001b[0;34m\u001b[0m\u001b[0;34m\u001b[0m\u001b[0m\n",
      "\u001b[0;32m<ipython-input-40-013ed581c37d>\u001b[0m in \u001b[0;36munpack_video\u001b[0;34m(video_path, output_dir)\u001b[0m\n\u001b[1;32m     22\u001b[0m         \u001b[0;31m# Save the frame as an image\u001b[0m\u001b[0;34m\u001b[0m\u001b[0;34m\u001b[0m\u001b[0m\n\u001b[1;32m     23\u001b[0m         \u001b[0mimage_path\u001b[0m \u001b[0;34m=\u001b[0m \u001b[0mos\u001b[0m\u001b[0;34m.\u001b[0m\u001b[0mpath\u001b[0m\u001b[0;34m.\u001b[0m\u001b[0mjoin\u001b[0m\u001b[0;34m(\u001b[0m\u001b[0moutput_dir\u001b[0m\u001b[0;34m,\u001b[0m \u001b[0;34mf\"{frame_num:06d}.png\"\u001b[0m\u001b[0;34m)\u001b[0m\u001b[0;34m\u001b[0m\u001b[0;34m\u001b[0m\u001b[0m\n\u001b[0;32m---> 24\u001b[0;31m         \u001b[0mcv2\u001b[0m\u001b[0;34m.\u001b[0m\u001b[0mimwrite\u001b[0m\u001b[0;34m(\u001b[0m\u001b[0mimage_path\u001b[0m\u001b[0;34m,\u001b[0m \u001b[0mframe\u001b[0m\u001b[0;34m)\u001b[0m\u001b[0;34m\u001b[0m\u001b[0;34m\u001b[0m\u001b[0m\n\u001b[0m\u001b[1;32m     25\u001b[0m \u001b[0;34m\u001b[0m\u001b[0m\n\u001b[1;32m     26\u001b[0m         \u001b[0mframe_num\u001b[0m \u001b[0;34m+=\u001b[0m \u001b[0;36m1\u001b[0m\u001b[0;34m\u001b[0m\u001b[0;34m\u001b[0m\u001b[0m\n",
      "\u001b[0;31mKeyboardInterrupt\u001b[0m: "
     ]
    }
   ],
   "source": [
    "for video_path in video_files:\n",
    "    # Substitue in video_file the video folder with the frame folder\n",
    "    frame_path = frame_folder + video_path.split(video_folder)[1]\n",
    "    frame_path = frame_path.split(\".\")[0]\n",
    "\n",
    "    print(video_path + \" -> \" + frame_path)\n",
    "\n",
    "    if not os.path.exists(frame_path):\n",
    "        if \"inv\" in video_path:\n",
    "            print(\"Already inverted \" + video_path)\n",
    "        elif \"GT\" in video_path and \"WL\" in video_path:\n",
    "            print(\"Inverting \" + video_path)\n",
    "            video_path_2 = video_path.replace(\"WL\", \"WL_inv\")\n",
    "            invert_grayscale_video(video_path, video_path_2)\n",
    "            unpack_video(video_path_2, frame_path)\n",
    "        else:\n",
    "            unpack_video(video_path, frame_path)\n",
    "    else:\n",
    "        print(\"Skipping \" + video_path + \". Folder already exists\")"
   ]
  },
  {
   "cell_type": "code",
   "execution_count": null,
   "metadata": {
    "id": "QRbeTJ1noqyC"
   },
   "outputs": [],
   "source": [
    "# For each folder in Color, check if the elements inside the folder are the same in the folder under GT with same name\n",
    "\n",
    "color_folders = glob.glob(frame_sunny_folder + \"/*\")\n",
    "print(color_folders)\n",
    "\n",
    "for color_folder in color_folders:\n",
    "    gt_folder = color_folder.replace(\"Sunny\", \"GT\")\n",
    "    print(color_folder + \" -> \" + gt_folder)\n",
    "    color_files = len(os.listdir(color_folder))\n",
    "    gt_files = len(os.listdir(gt_folder))\n",
    "\n",
    "    print(f\"{color_folder}: {color_files} color files - {gt_files} gt files\")\n"
   ]
  },
  {
   "cell_type": "code",
   "execution_count": null,
   "metadata": {
    "id": "nFbKR-G4oqyC"
   },
   "outputs": [],
   "source": [
    "# Take the frame files under the \"Sunny\" folder\n",
    "frame_files = glob.glob(frame_sunny_folder + \"/**/*.png\", recursive=True)\n",
    "print(\"Number of frame extracted: \" + str(len(frame_files)))"
   ]
  },
  {
   "cell_type": "code",
   "execution_count": null,
   "metadata": {
    "id": "KfHXNAMdoqyD"
   },
   "outputs": [],
   "source": [
    "train_per, val_per, test_per = 0.7, 0.2, 0.1"
   ]
  },
  {
   "cell_type": "code",
   "execution_count": null,
   "metadata": {
    "id": "ljv7tIFkoqyE"
   },
   "outputs": [],
   "source": [
    "# Create directories for train test and val and move files\n",
    "\n",
    "import random\n",
    "import shutil\n",
    "\n",
    "# Shuffle the list of files\n",
    "random.shuffle(frame_files)\n",
    "\n",
    "# Split the list of files using the percentages\n",
    "train_files = frame_files[:int(len(frame_files)*train_per)]\n",
    "val_files = frame_files[int(len(frame_files)*train_per):int(len(frame_files)*(train_per+val_per))]\n",
    "test_files = frame_files[int(len(frame_files)*(train_per+val_per)):]\n",
    "\n",
    "# Create the directories\n",
    "train_dir = frame_folder + \"/Train\"\n",
    "val_dir = frame_folder + \"/Val\"\n",
    "test_dir = frame_folder + \"/Test\"\n",
    "\n",
    "if not os.path.exists(train_dir):\n",
    "    os.makedirs(train_dir)\n",
    "    os.makedirs(train_dir + \"/images\")\n",
    "    os.makedirs(train_dir + \"/GT\")\n",
    "if not os.path.exists(val_dir):\n",
    "    os.makedirs(val_dir)\n",
    "    os.makedirs(val_dir + \"/images\")\n",
    "    os.makedirs(val_dir + \"/GT\")\n",
    "if not os.path.exists(test_dir):\n",
    "    os.makedirs(test_dir)\n",
    "    os.makedirs(test_dir + \"/images\")\n",
    "    os.makedirs(test_dir + \"/GT\")\n",
    "\n",
    "# Move the files\n",
    "for color_image in train_files:\n",
    "    # Take the name of the parent folder\n",
    "    image_dest_path = \"/\".join(color_image.replace(\"Sunny\", \"Train/images\").split(\"/\")[:-1])\n",
    "    gt_dest_path = \"/\".join(color_image.replace(\"Sunny\", \"Train/GT\").split(\"/\")[:-1])\n",
    "\n",
    "    print(image_dest_path)\n",
    "    if not os.path.exists(image_dest_path):\n",
    "        os.makedirs(image_dest_path)\n",
    "    if not os.path.exists(gt_dest_path):\n",
    "        os.makedirs(gt_dest_path)\n",
    "\n",
    "    # If there is also the corresponding GT file, move it\n",
    "    try:\n",
    "        shutil.move(color_image.replace(\"Sunny\", \"GT\"), gt_dest_path)\n",
    "        shutil.move(color_image, image_dest_path)\n",
    "    except FileNotFoundError:\n",
    "        print(\"GT file not available for \" + color_image + \" Skipping...\")\n",
    "\n",
    "for color_image in val_files:\n",
    "    # Take the name of the parent folder\n",
    "    image_dest_path = \"/\".join(color_image.replace(\"Sunny\", \"Val/images\").split(\"/\")[:-1])\n",
    "    gt_dest_path = \"/\".join(color_image.replace(\"Sunny\", \"Val/GT\").split(\"/\")[:-1])\n",
    "\n",
    "    if not os.path.exists(image_dest_path):\n",
    "        os.makedirs(image_dest_path)\n",
    "    if not os.path.exists(gt_dest_path):\n",
    "        os.makedirs(gt_dest_path)\n",
    "\n",
    "    # If there is also the corresponding GT file, move it\n",
    "    try:\n",
    "        shutil.move(color_image.replace(\"Sunny\", \"GT\"), gt_dest_path)\n",
    "        shutil.move(color_image, image_dest_path)\n",
    "    except FileNotFoundError:\n",
    "        print(\"GT file not available for \" + color_image + \" Skipping...\")\n",
    "\n",
    "for color_image in test_files:\n",
    "    # Take the name of the parent folder\n",
    "    image_dest_path = \"/\".join(color_image.replace(\"Sunny\", \"Test/images\").split(\"/\")[:-1])\n",
    "    gt_dest_path = \"/\".join(color_image.replace(\"Sunny\", \"Test/GT\").split(\"/\")[:-1])\n",
    "\n",
    "    print(image_dest_path)\n",
    "    if not os.path.exists(image_dest_path):\n",
    "        os.makedirs(image_dest_path)\n",
    "    if not os.path.exists(gt_dest_path):\n",
    "        os.makedirs(gt_dest_path)\n",
    "\n",
    "    # If there is also the corresponding GT file, move it\n",
    "    try:\n",
    "        shutil.move(color_image.replace(\"Sunny\", \"GT\"), gt_dest_path)\n",
    "        shutil.move(color_image, image_dest_path)\n",
    "    except FileNotFoundError:\n",
    "        print(\"GT file not available for \" + color_image + \" Skipping...\")"
   ]
  },
  {
   "cell_type": "code",
   "execution_count": null,
   "metadata": {
    "id": "WW_VhwxMoqyE"
   },
   "outputs": [],
   "source": [
    "# Count elements in each folder\n",
    "\n",
    "train_images = glob.glob(train_dir + \"/images/**/*.png\", recursive=True)\n",
    "train_gt = glob.glob(train_dir + \"/GT/**/*.png\", recursive=True)\n",
    "val_images = glob.glob(val_dir + \"/images/**/*.png\", recursive=True)\n",
    "val_gt = glob.glob(val_dir + \"/GT/**/*.png\", recursive=True)\n",
    "test_images = glob.glob(test_dir + \"/images/**/*.png\", recursive=True)\n",
    "test_gt = glob.glob(test_dir + \"/GT/**/*.png\", recursive=True)\n",
    "\n",
    "print(f\"Train: {len(train_images)} images - {len(train_gt)} gt\")\n",
    "print(f\"Val: {len(val_images)} images - {len(val_gt)} gt\")\n",
    "print(f\"Test: {len(test_images)} images - {len(test_gt)} gt\")"
   ]
  },
  {
   "cell_type": "code",
   "execution_count": null,
   "metadata": {
    "id": "FMObnIO9oqyE"
   },
   "outputs": [],
   "source": [
    "import glob\n",
    "import os\n",
    "\n",
    "# Remove all .DS_Store files\n",
    "\n",
    "ds_store_files = glob.glob(frame_folder + \"/**/.DS_Store\", recursive=True)\n",
    "print(\"Num of .DS_Store files found: \" + str(len(ds_store_files)))\n",
    "\n",
    "for ds_store_file in ds_store_files:\n",
    "    os.remove(ds_store_file)"
   ]
  },
  {
   "cell_type": "code",
   "execution_count": null,
   "metadata": {
    "id": "pwjZV5pvo4ec"
   },
   "outputs": [],
   "source": [
    "!zip -r /content/drive/MyDrive/Magistrale/Tesi/Video\\ Scenari/SynthOffRoad.zip /content/drive/MyDrive/Magistrale/Tesi/Video\\ Scenari/SynthOffRoad"
   ]
  }
 ],
 "metadata": {
  "colab": {
   "provenance": []
  },
  "kernelspec": {
   "display_name": "Nocerino",
   "language": "python",
   "name": "python3"
  },
  "language_info": {
   "codemirror_mode": {
    "name": "ipython",
    "version": 3
   },
   "file_extension": ".py",
   "mimetype": "text/x-python",
   "name": "python",
   "nbconvert_exporter": "python",
   "pygments_lexer": "ipython3",
   "version": "3.8.20"
  }
 },
 "nbformat": 4,
 "nbformat_minor": 0
}
